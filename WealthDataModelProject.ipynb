{
 "cells": [
  {
   "cell_type": "code",
   "execution_count": 684,
   "metadata": {},
   "outputs": [],
   "source": [
    "import mysql.connector\n",
    "import pandas as pd"
   ]
  },
  {
   "cell_type": "code",
   "execution_count": 685,
   "metadata": {},
   "outputs": [],
   "source": [
    "def create_database():\n",
    "  conn = mysql.connector.connect(\n",
    "    host=\"localhost\",\n",
    "    user=\"abc\",\n",
    "    password=\"password\"\n",
    "  )\n",
    "\n",
    "  conn.autocommit=True\n",
    "  \n",
    "  print(conn)\n",
    "  cur = conn.cursor()\n",
    "  try:\n",
    "    cur.execute(\"DROP DATABASE ACCOUNTS\")\n",
    "  except:\n",
    "    print(\"ACCOUNT Database not exist\")\n",
    "    \n",
    "  cur.execute(\"CREATE DATABASE ACCOUNTS\")\n",
    "  cur.execute(\"USE ACCOUNTS\")\n",
    "  for x in cur:\n",
    "    print(x)\n",
    "  \n",
    "  return cur, conn"
   ]
  },
  {
   "cell_type": "code",
   "execution_count": 686,
   "metadata": {},
   "outputs": [
    {
     "name": "stdout",
     "output_type": "stream",
     "text": [
      "<mysql.connector.connection_cext.CMySQLConnection object at 0x7f83c7e8ce80>\n"
     ]
    },
    {
     "data": {
      "text/plain": [
       "(<mysql.connector.cursor_cext.CMySQLCursor at 0x7f83c7bb7e50>,\n",
       " <mysql.connector.connection_cext.CMySQLConnection at 0x7f83c7e8ce80>)"
      ]
     },
     "execution_count": 686,
     "metadata": {},
     "output_type": "execute_result"
    }
   ],
   "source": [
    "create_database()"
   ]
  },
  {
   "cell_type": "code",
   "execution_count": 687,
   "metadata": {},
   "outputs": [],
   "source": [
    "def drop_tables(cur, conn):\n",
    "    for query in drop_table_queries:\n",
    "        cur.execute(query)\n",
    "        conn.commit()"
   ]
  },
  {
   "cell_type": "code",
   "execution_count": 688,
   "metadata": {},
   "outputs": [],
   "source": [
    "def create_tables(cur, conn):\n",
    "    for query in create_table_quries:\n",
    "        cur.execute(query)\n",
    "        conn.commit()"
   ]
  },
  {
   "cell_type": "code",
   "execution_count": 689,
   "metadata": {},
   "outputs": [],
   "source": [
    "AccountsCountry = pd.read_csv(\"/config/workspace/Wealth-AccountsCountry.csv\")"
   ]
  },
  {
   "cell_type": "code",
   "execution_count": 690,
   "metadata": {},
   "outputs": [
    {
     "data": {
      "text/html": [
       "<div>\n",
       "<style scoped>\n",
       "    .dataframe tbody tr th:only-of-type {\n",
       "        vertical-align: middle;\n",
       "    }\n",
       "\n",
       "    .dataframe tbody tr th {\n",
       "        vertical-align: top;\n",
       "    }\n",
       "\n",
       "    .dataframe thead th {\n",
       "        text-align: right;\n",
       "    }\n",
       "</style>\n",
       "<table border=\"1\" class=\"dataframe\">\n",
       "  <thead>\n",
       "    <tr style=\"text-align: right;\">\n",
       "      <th></th>\n",
       "      <th>Code</th>\n",
       "      <th>Long Name</th>\n",
       "      <th>Income Group</th>\n",
       "      <th>Region</th>\n",
       "      <th>Lending category</th>\n",
       "      <th>Other groups</th>\n",
       "      <th>Currency Unit</th>\n",
       "      <th>Latest population census</th>\n",
       "      <th>Latest household survey</th>\n",
       "      <th>Special Notes</th>\n",
       "      <th>...</th>\n",
       "      <th>Source of most recent Income and expenditure data</th>\n",
       "      <th>Vital registration complete</th>\n",
       "      <th>Latest agricultural census</th>\n",
       "      <th>Latest industrial data</th>\n",
       "      <th>Latest trade data</th>\n",
       "      <th>Latest water withdrawal data</th>\n",
       "      <th>2-alpha code</th>\n",
       "      <th>WB-2 code</th>\n",
       "      <th>Table Name</th>\n",
       "      <th>Short Name</th>\n",
       "    </tr>\n",
       "  </thead>\n",
       "  <tbody>\n",
       "    <tr>\n",
       "      <th>0</th>\n",
       "      <td>ALB</td>\n",
       "      <td>Republic of Albania</td>\n",
       "      <td>Upper middle income</td>\n",
       "      <td>Europe &amp; Central Asia</td>\n",
       "      <td>IBRD</td>\n",
       "      <td>NaN</td>\n",
       "      <td>Albanian lek</td>\n",
       "      <td>2020 (expected)</td>\n",
       "      <td>Demographic and Health Survey, 2017/18</td>\n",
       "      <td>NaN</td>\n",
       "      <td>...</td>\n",
       "      <td>Living Standards Measurement Study Survey (LSM...</td>\n",
       "      <td>Yes</td>\n",
       "      <td>2012</td>\n",
       "      <td>2013.0</td>\n",
       "      <td>2018.0</td>\n",
       "      <td>2006.0</td>\n",
       "      <td>AL</td>\n",
       "      <td>AL</td>\n",
       "      <td>Albania</td>\n",
       "      <td>Albania</td>\n",
       "    </tr>\n",
       "    <tr>\n",
       "      <th>1</th>\n",
       "      <td>ARG</td>\n",
       "      <td>Argentine Republic</td>\n",
       "      <td>Upper middle income</td>\n",
       "      <td>Latin America &amp; Caribbean</td>\n",
       "      <td>IBRD</td>\n",
       "      <td>NaN</td>\n",
       "      <td>Argentine peso</td>\n",
       "      <td>2020 (expected)</td>\n",
       "      <td>Multiple Indicator Cluster Survey, 2019/20</td>\n",
       "      <td>NaN</td>\n",
       "      <td>...</td>\n",
       "      <td>Integrated household survey (IHS), 2016</td>\n",
       "      <td>Yes</td>\n",
       "      <td>2008</td>\n",
       "      <td>2002.0</td>\n",
       "      <td>2018.0</td>\n",
       "      <td>2011.0</td>\n",
       "      <td>AR</td>\n",
       "      <td>AR</td>\n",
       "      <td>Argentina</td>\n",
       "      <td>Argentina</td>\n",
       "    </tr>\n",
       "    <tr>\n",
       "      <th>2</th>\n",
       "      <td>ARM</td>\n",
       "      <td>Republic of Armenia</td>\n",
       "      <td>Upper middle income</td>\n",
       "      <td>Europe &amp; Central Asia</td>\n",
       "      <td>IBRD</td>\n",
       "      <td>NaN</td>\n",
       "      <td>Armenian dram</td>\n",
       "      <td>2020 (expected)</td>\n",
       "      <td>Demographic and Health Survey, 2015/16</td>\n",
       "      <td>NaN</td>\n",
       "      <td>...</td>\n",
       "      <td>Integrated household survey (IHS), 2016</td>\n",
       "      <td>Yes</td>\n",
       "      <td>2014</td>\n",
       "      <td>NaN</td>\n",
       "      <td>2018.0</td>\n",
       "      <td>2012.0</td>\n",
       "      <td>AM</td>\n",
       "      <td>AM</td>\n",
       "      <td>Armenia</td>\n",
       "      <td>Armenia</td>\n",
       "    </tr>\n",
       "    <tr>\n",
       "      <th>3</th>\n",
       "      <td>AUS</td>\n",
       "      <td>Commonwealth of Australia</td>\n",
       "      <td>High income</td>\n",
       "      <td>East Asia &amp; Pacific</td>\n",
       "      <td>NaN</td>\n",
       "      <td>NaN</td>\n",
       "      <td>Australian dollar</td>\n",
       "      <td>2016</td>\n",
       "      <td>NaN</td>\n",
       "      <td>Fiscal year end: June 30; reporting period for...</td>\n",
       "      <td>...</td>\n",
       "      <td>Expenditure survey/budget survey (ES/BS), 2010</td>\n",
       "      <td>Yes</td>\n",
       "      <td>2015-2016</td>\n",
       "      <td>2013.0</td>\n",
       "      <td>2018.0</td>\n",
       "      <td>2013.0</td>\n",
       "      <td>AU</td>\n",
       "      <td>AU</td>\n",
       "      <td>Australia</td>\n",
       "      <td>Australia</td>\n",
       "    </tr>\n",
       "    <tr>\n",
       "      <th>4</th>\n",
       "      <td>AUT</td>\n",
       "      <td>Republic of Austria</td>\n",
       "      <td>High income</td>\n",
       "      <td>Europe &amp; Central Asia</td>\n",
       "      <td>NaN</td>\n",
       "      <td>Euro area</td>\n",
       "      <td>Euro</td>\n",
       "      <td>2011. Population figures compiled from adminis...</td>\n",
       "      <td>NaN</td>\n",
       "      <td>A simple multiplier is used to convert the nat...</td>\n",
       "      <td>...</td>\n",
       "      <td>Income survey (IS), 2015</td>\n",
       "      <td>Yes</td>\n",
       "      <td>2010</td>\n",
       "      <td>2014.0</td>\n",
       "      <td>2018.0</td>\n",
       "      <td>2010.0</td>\n",
       "      <td>AT</td>\n",
       "      <td>AT</td>\n",
       "      <td>Austria</td>\n",
       "      <td>Austria</td>\n",
       "    </tr>\n",
       "  </tbody>\n",
       "</table>\n",
       "<p>5 rows × 31 columns</p>\n",
       "</div>"
      ],
      "text/plain": [
       "  Code                  Long Name         Income Group   \n",
       "0  ALB        Republic of Albania  Upper middle income  \\\n",
       "1  ARG         Argentine Republic  Upper middle income   \n",
       "2  ARM        Republic of Armenia  Upper middle income   \n",
       "3  AUS  Commonwealth of Australia          High income   \n",
       "4  AUT        Republic of Austria          High income   \n",
       "\n",
       "                      Region Lending category Other groups      Currency Unit   \n",
       "0      Europe & Central Asia             IBRD          NaN       Albanian lek  \\\n",
       "1  Latin America & Caribbean             IBRD          NaN     Argentine peso   \n",
       "2      Europe & Central Asia             IBRD          NaN      Armenian dram   \n",
       "3        East Asia & Pacific              NaN          NaN  Australian dollar   \n",
       "4      Europe & Central Asia              NaN    Euro area               Euro   \n",
       "\n",
       "                            Latest population census   \n",
       "0                                    2020 (expected)  \\\n",
       "1                                    2020 (expected)   \n",
       "2                                    2020 (expected)   \n",
       "3                                               2016   \n",
       "4  2011. Population figures compiled from adminis...   \n",
       "\n",
       "                      Latest household survey   \n",
       "0      Demographic and Health Survey, 2017/18  \\\n",
       "1  Multiple Indicator Cluster Survey, 2019/20   \n",
       "2      Demographic and Health Survey, 2015/16   \n",
       "3                                         NaN   \n",
       "4                                         NaN   \n",
       "\n",
       "                                       Special Notes  ...   \n",
       "0                                                NaN  ...  \\\n",
       "1                                                NaN  ...   \n",
       "2                                                NaN  ...   \n",
       "3  Fiscal year end: June 30; reporting period for...  ...   \n",
       "4  A simple multiplier is used to convert the nat...  ...   \n",
       "\n",
       "   Source of most recent Income and expenditure data   \n",
       "0  Living Standards Measurement Study Survey (LSM...  \\\n",
       "1            Integrated household survey (IHS), 2016   \n",
       "2            Integrated household survey (IHS), 2016   \n",
       "3     Expenditure survey/budget survey (ES/BS), 2010   \n",
       "4                           Income survey (IS), 2015   \n",
       "\n",
       "   Vital registration complete Latest agricultural census   \n",
       "0                          Yes                       2012  \\\n",
       "1                          Yes                       2008   \n",
       "2                          Yes                       2014   \n",
       "3                          Yes                  2015-2016   \n",
       "4                          Yes                       2010   \n",
       "\n",
       "  Latest industrial data Latest trade data Latest water withdrawal data   \n",
       "0                 2013.0            2018.0                       2006.0  \\\n",
       "1                 2002.0            2018.0                       2011.0   \n",
       "2                    NaN            2018.0                       2012.0   \n",
       "3                 2013.0            2018.0                       2013.0   \n",
       "4                 2014.0            2018.0                       2010.0   \n",
       "\n",
       "  2-alpha code WB-2 code Table Name Short Name  \n",
       "0           AL        AL    Albania    Albania  \n",
       "1           AR        AR  Argentina  Argentina  \n",
       "2           AM        AM    Armenia    Armenia  \n",
       "3           AU        AU  Australia  Australia  \n",
       "4           AT        AT    Austria    Austria  \n",
       "\n",
       "[5 rows x 31 columns]"
      ]
     },
     "execution_count": 690,
     "metadata": {},
     "output_type": "execute_result"
    }
   ],
   "source": [
    "AccountsCountry.head()"
   ]
  },
  {
   "cell_type": "code",
   "execution_count": 691,
   "metadata": {},
   "outputs": [
    {
     "data": {
      "text/plain": [
       "Index(['Code', 'Long Name', 'Income Group', 'Region', 'Lending category',\n",
       "       'Other groups', 'Currency Unit', 'Latest population census',\n",
       "       'Latest household survey', 'Special Notes',\n",
       "       'National accounts base year', 'National accounts reference year',\n",
       "       'System of National Accounts', 'SNA price valuation',\n",
       "       'Alternative conversion factor', 'PPP survey years',\n",
       "       'Balance of Payments Manual in use', 'External debt Reporting status',\n",
       "       'System of trade', 'Government Accounting concept',\n",
       "       'IMF data dissemination standard',\n",
       "       'Source of most recent Income and expenditure data',\n",
       "       'Vital registration complete', 'Latest agricultural census',\n",
       "       'Latest industrial data', 'Latest trade data',\n",
       "       'Latest water withdrawal data', '2-alpha code', 'WB-2 code',\n",
       "       'Table Name', 'Short Name'],\n",
       "      dtype='object')"
      ]
     },
     "execution_count": 691,
     "metadata": {},
     "output_type": "execute_result"
    }
   ],
   "source": [
    "AccountsCountry.columns"
   ]
  },
  {
   "cell_type": "code",
   "execution_count": 692,
   "metadata": {},
   "outputs": [
    {
     "data": {
      "text/html": [
       "<div>\n",
       "<style scoped>\n",
       "    .dataframe tbody tr th:only-of-type {\n",
       "        vertical-align: middle;\n",
       "    }\n",
       "\n",
       "    .dataframe tbody tr th {\n",
       "        vertical-align: top;\n",
       "    }\n",
       "\n",
       "    .dataframe thead th {\n",
       "        text-align: right;\n",
       "    }\n",
       "</style>\n",
       "<table border=\"1\" class=\"dataframe\">\n",
       "  <thead>\n",
       "    <tr style=\"text-align: right;\">\n",
       "      <th></th>\n",
       "      <th>Code</th>\n",
       "      <th>Short Name</th>\n",
       "      <th>Table Name</th>\n",
       "      <th>Long Name</th>\n",
       "      <th>Currency Unit</th>\n",
       "    </tr>\n",
       "  </thead>\n",
       "  <tbody>\n",
       "  </tbody>\n",
       "</table>\n",
       "</div>"
      ],
      "text/plain": [
       "Empty DataFrame\n",
       "Columns: [Code, Short Name, Table Name, Long Name, Currency Unit]\n",
       "Index: []"
      ]
     },
     "execution_count": 692,
     "metadata": {},
     "output_type": "execute_result"
    }
   ],
   "source": [
    "AccountsCountry_Clean[AccountsCountry_Clean[['Code','Short Name']]['Code'].isna()]"
   ]
  },
  {
   "cell_type": "code",
   "execution_count": 693,
   "metadata": {},
   "outputs": [],
   "source": [
    "AccountsCountry_Clean = AccountsCountry[['Code', 'Short Name', 'Table Name','Long Name','Currency Unit']]"
   ]
  },
  {
   "cell_type": "code",
   "execution_count": 694,
   "metadata": {},
   "outputs": [
    {
     "name": "stderr",
     "output_type": "stream",
     "text": [
      "/tmp/ipykernel_1022/3633804775.py:1: SettingWithCopyWarning: \n",
      "A value is trying to be set on a copy of a slice from a DataFrame\n",
      "\n",
      "See the caveats in the documentation: https://pandas.pydata.org/pandas-docs/stable/user_guide/indexing.html#returning-a-view-versus-a-copy\n",
      "  AccountsCountry_Clean.dropna(subset = ['Code'], inplace=True)\n",
      "/tmp/ipykernel_1022/3633804775.py:2: SettingWithCopyWarning: \n",
      "A value is trying to be set on a copy of a slice from a DataFrame\n",
      "\n",
      "See the caveats in the documentation: https://pandas.pydata.org/pandas-docs/stable/user_guide/indexing.html#returning-a-view-versus-a-copy\n",
      "  AccountsCountry_Clean.fillna(0,inplace=True)\n",
      "/tmp/ipykernel_1022/3633804775.py:3: SettingWithCopyWarning: \n",
      "A value is trying to be set on a copy of a slice from a DataFrame\n",
      "\n",
      "See the caveats in the documentation: https://pandas.pydata.org/pandas-docs/stable/user_guide/indexing.html#returning-a-view-versus-a-copy\n",
      "  AccountsCountry_Clean.drop_duplicates(subset = ['Code'], inplace=True)\n"
     ]
    }
   ],
   "source": [
    "AccountsCountry_Clean.dropna(subset = ['Code'], inplace=True)\n",
    "AccountsCountry_Clean.fillna(0,inplace=True)\n",
    "AccountsCountry_Clean.drop_duplicates(subset = ['Code'], inplace=True)"
   ]
  },
  {
   "cell_type": "code",
   "execution_count": 695,
   "metadata": {},
   "outputs": [
    {
     "data": {
      "text/html": [
       "<div>\n",
       "<style scoped>\n",
       "    .dataframe tbody tr th:only-of-type {\n",
       "        vertical-align: middle;\n",
       "    }\n",
       "\n",
       "    .dataframe tbody tr th {\n",
       "        vertical-align: top;\n",
       "    }\n",
       "\n",
       "    .dataframe thead th {\n",
       "        text-align: right;\n",
       "    }\n",
       "</style>\n",
       "<table border=\"1\" class=\"dataframe\">\n",
       "  <thead>\n",
       "    <tr style=\"text-align: right;\">\n",
       "      <th></th>\n",
       "      <th>Code</th>\n",
       "      <th>Short Name</th>\n",
       "      <th>Table Name</th>\n",
       "      <th>Long Name</th>\n",
       "      <th>Currency Unit</th>\n",
       "    </tr>\n",
       "  </thead>\n",
       "  <tbody>\n",
       "    <tr>\n",
       "      <th>0</th>\n",
       "      <td>ALB</td>\n",
       "      <td>Albania</td>\n",
       "      <td>Albania</td>\n",
       "      <td>Republic of Albania</td>\n",
       "      <td>Albanian lek</td>\n",
       "    </tr>\n",
       "    <tr>\n",
       "      <th>1</th>\n",
       "      <td>ARG</td>\n",
       "      <td>Argentina</td>\n",
       "      <td>Argentina</td>\n",
       "      <td>Argentine Republic</td>\n",
       "      <td>Argentine peso</td>\n",
       "    </tr>\n",
       "    <tr>\n",
       "      <th>2</th>\n",
       "      <td>ARM</td>\n",
       "      <td>Armenia</td>\n",
       "      <td>Armenia</td>\n",
       "      <td>Republic of Armenia</td>\n",
       "      <td>Armenian dram</td>\n",
       "    </tr>\n",
       "    <tr>\n",
       "      <th>3</th>\n",
       "      <td>AUS</td>\n",
       "      <td>Australia</td>\n",
       "      <td>Australia</td>\n",
       "      <td>Commonwealth of Australia</td>\n",
       "      <td>Australian dollar</td>\n",
       "    </tr>\n",
       "    <tr>\n",
       "      <th>4</th>\n",
       "      <td>AUT</td>\n",
       "      <td>Austria</td>\n",
       "      <td>Austria</td>\n",
       "      <td>Republic of Austria</td>\n",
       "      <td>Euro</td>\n",
       "    </tr>\n",
       "  </tbody>\n",
       "</table>\n",
       "</div>"
      ],
      "text/plain": [
       "  Code Short Name Table Name                  Long Name      Currency Unit\n",
       "0  ALB    Albania    Albania        Republic of Albania       Albanian lek\n",
       "1  ARG  Argentina  Argentina         Argentine Republic     Argentine peso\n",
       "2  ARM    Armenia    Armenia        Republic of Armenia      Armenian dram\n",
       "3  AUS  Australia  Australia  Commonwealth of Australia  Australian dollar\n",
       "4  AUT    Austria    Austria        Republic of Austria               Euro"
      ]
     },
     "execution_count": 695,
     "metadata": {},
     "output_type": "execute_result"
    }
   ],
   "source": [
    "AccountsCountry_Clean.head()"
   ]
  },
  {
   "cell_type": "code",
   "execution_count": 696,
   "metadata": {},
   "outputs": [],
   "source": [
    "AccountsData = pd.read_csv(\"/config/workspace/Wealth-AccountData.csv\")"
   ]
  },
  {
   "cell_type": "code",
   "execution_count": 697,
   "metadata": {},
   "outputs": [
    {
     "data": {
      "text/plain": [
       "Index(['Country Name', 'Country Code', 'Series Name', 'Series Code',\n",
       "       '1995 [YR1995]', '1996 [YR1996]', '1997 [YR1997]', '1998 [YR1998]',\n",
       "       '1999 [YR1999]', '2000 [YR2000]', '2001 [YR2001]', '2002 [YR2002]',\n",
       "       '2003 [YR2003]', '2004 [YR2004]', '2005 [YR2005]', '2006 [YR2006]',\n",
       "       '2007 [YR2007]', '2008 [YR2008]', '2009 [YR2009]', '2010 [YR2010]',\n",
       "       '2011 [YR2011]', '2012 [YR2012]', '2013 [YR2013]', '2014 [YR2014]',\n",
       "       '2015 [YR2015]', '2016 [YR2016]', '2017 [YR2017]', '2018 [YR2018]'],\n",
       "      dtype='object')"
      ]
     },
     "execution_count": 697,
     "metadata": {},
     "output_type": "execute_result"
    }
   ],
   "source": [
    "AccountsData.columns"
   ]
  },
  {
   "cell_type": "code",
   "execution_count": 698,
   "metadata": {},
   "outputs": [],
   "source": [
    "AccountsData = AccountsData[['Country Name', 'Country Code', 'Series Name', 'Series Code','1995 [YR1995]','2000 [YR2000]','2005 [YR2005]','2010 [YR2010]','2014 [YR2014]']]"
   ]
  },
  {
   "cell_type": "code",
   "execution_count": 699,
   "metadata": {},
   "outputs": [],
   "source": [
    "AccountsSeries = pd.read_csv(\"/config/workspace/Wealth-AccountSeries.csv\")"
   ]
  },
  {
   "cell_type": "code",
   "execution_count": 700,
   "metadata": {},
   "outputs": [
    {
     "data": {
      "text/plain": [
       "Index(['Code', 'Indicator Name', 'Long definition', 'Source', 'Topic',\n",
       "       'Unit of measure', 'Periodicity', 'Reference period',\n",
       "       'Statistical concept and methodology', 'Previous Indicator Code',\n",
       "       'Previous Indicator Name'],\n",
       "      dtype='object')"
      ]
     },
     "execution_count": 700,
     "metadata": {},
     "output_type": "execute_result"
    }
   ],
   "source": [
    "AccountsSeries.columns"
   ]
  },
  {
   "cell_type": "code",
   "execution_count": 701,
   "metadata": {},
   "outputs": [],
   "source": [
    "AccountsSeries = AccountsSeries[['Code','Topic','Indicator Name', 'Long definition']]"
   ]
  },
  {
   "cell_type": "code",
   "execution_count": 702,
   "metadata": {},
   "outputs": [
    {
     "data": {
      "text/html": [
       "<div>\n",
       "<style scoped>\n",
       "    .dataframe tbody tr th:only-of-type {\n",
       "        vertical-align: middle;\n",
       "    }\n",
       "\n",
       "    .dataframe tbody tr th {\n",
       "        vertical-align: top;\n",
       "    }\n",
       "\n",
       "    .dataframe thead th {\n",
       "        text-align: right;\n",
       "    }\n",
       "</style>\n",
       "<table border=\"1\" class=\"dataframe\">\n",
       "  <thead>\n",
       "    <tr style=\"text-align: right;\">\n",
       "      <th></th>\n",
       "      <th>Code</th>\n",
       "      <th>Topic</th>\n",
       "      <th>Indicator Name</th>\n",
       "      <th>Long definition</th>\n",
       "    </tr>\n",
       "  </thead>\n",
       "  <tbody>\n",
       "    <tr>\n",
       "      <th>0</th>\n",
       "      <td>NW.HCA.TO</td>\n",
       "      <td>Human capital</td>\n",
       "      <td>Human capital (constant 2018 US$)</td>\n",
       "      <td>Human capital is computed as the present value...</td>\n",
       "    </tr>\n",
       "    <tr>\n",
       "      <th>1</th>\n",
       "      <td>NW.HCA.PC</td>\n",
       "      <td>Human capital</td>\n",
       "      <td>Human capital per capita (constant 2018 US$)</td>\n",
       "      <td>Human capital is computed as the present value...</td>\n",
       "    </tr>\n",
       "    <tr>\n",
       "      <th>2</th>\n",
       "      <td>NW.HCA.FEMP.PC</td>\n",
       "      <td>Human capital</td>\n",
       "      <td>Human capital per capita, employed female (con...</td>\n",
       "      <td>Human capital is computed as the present value...</td>\n",
       "    </tr>\n",
       "    <tr>\n",
       "      <th>3</th>\n",
       "      <td>NW.HCA.MEMP.PC</td>\n",
       "      <td>Human capital</td>\n",
       "      <td>Human capital per capita, employed male (const...</td>\n",
       "      <td>Human capital is computed as the present value...</td>\n",
       "    </tr>\n",
       "    <tr>\n",
       "      <th>4</th>\n",
       "      <td>NW.HCA.FEMA.PC</td>\n",
       "      <td>Human capital</td>\n",
       "      <td>Human capital per capita, female (constant 201...</td>\n",
       "      <td>Human capital is computed as the present value...</td>\n",
       "    </tr>\n",
       "  </tbody>\n",
       "</table>\n",
       "</div>"
      ],
      "text/plain": [
       "             Code          Topic   \n",
       "0       NW.HCA.TO  Human capital  \\\n",
       "1       NW.HCA.PC  Human capital   \n",
       "2  NW.HCA.FEMP.PC  Human capital   \n",
       "3  NW.HCA.MEMP.PC  Human capital   \n",
       "4  NW.HCA.FEMA.PC  Human capital   \n",
       "\n",
       "                                      Indicator Name   \n",
       "0                  Human capital (constant 2018 US$)  \\\n",
       "1       Human capital per capita (constant 2018 US$)   \n",
       "2  Human capital per capita, employed female (con...   \n",
       "3  Human capital per capita, employed male (const...   \n",
       "4  Human capital per capita, female (constant 201...   \n",
       "\n",
       "                                     Long definition  \n",
       "0  Human capital is computed as the present value...  \n",
       "1  Human capital is computed as the present value...  \n",
       "2  Human capital is computed as the present value...  \n",
       "3  Human capital is computed as the present value...  \n",
       "4  Human capital is computed as the present value...  "
      ]
     },
     "execution_count": 702,
     "metadata": {},
     "output_type": "execute_result"
    }
   ],
   "source": [
    "AccountsSeries.head()"
   ]
  },
  {
   "cell_type": "code",
   "execution_count": 703,
   "metadata": {},
   "outputs": [
    {
     "name": "stdout",
     "output_type": "stream",
     "text": [
      "<mysql.connector.connection_cext.CMySQLConnection object at 0x7f83c98b2be0>\n"
     ]
    }
   ],
   "source": [
    "cur,conn = create_database()"
   ]
  },
  {
   "cell_type": "code",
   "execution_count": 704,
   "metadata": {},
   "outputs": [],
   "source": [
    "accounts_country_table_create = (\"\"\"CREATE TABLE IF NOT EXISTS AccountsCountry(\n",
    "country_code varchar(30) primary key,\n",
    "short_name varchar(100),\n",
    "table_name varchar(100),\n",
    "long_name varchar(100),\n",
    "currency_unit varchar(100)) \"\"\")"
   ]
  },
  {
   "cell_type": "code",
   "execution_count": 705,
   "metadata": {},
   "outputs": [],
   "source": [
    "cur.execute(accounts_country_table_create)\n",
    "conn.commit()"
   ]
  },
  {
   "cell_type": "code",
   "execution_count": 706,
   "metadata": {},
   "outputs": [],
   "source": [
    "# cur.execute(\"select * from AccountsCountry limit 5\")"
   ]
  },
  {
   "cell_type": "code",
   "execution_count": 707,
   "metadata": {},
   "outputs": [],
   "source": [
    "accounts_data_table_create = (\"\"\"CREATE TABLE IF NOT EXISTS AccountsData(\n",
    "country_name varchar(30),\n",
    "country_code varchar(20),\n",
    "series_name varchar(200),\n",
    "series_code varchar(30),\n",
    "YR1995 BIGINT,\n",
    "YR2000 BIGINT,\n",
    "YR2005 BIGINT,\n",
    "YR2010 BIGINT,\n",
    "YR2014 BIGINT) \"\"\")\n",
    "\n",
    "cur.execute(accounts_data_table_create)\n",
    "conn.commit()"
   ]
  },
  {
   "cell_type": "code",
   "execution_count": 708,
   "metadata": {},
   "outputs": [],
   "source": [
    "accounts_series_table_create = (\"\"\"CREATE TABLE IF NOT EXISTS AccountsSeries(\n",
    "series_code varchar(30),\n",
    "topic varchar(50),\n",
    "indicator_name varchar(100),\n",
    "long_definition varchar(20)) \"\"\")\n",
    "\n",
    "cur.execute(accounts_series_table_create)\n",
    "conn.commit()"
   ]
  },
  {
   "cell_type": "code",
   "execution_count": 709,
   "metadata": {},
   "outputs": [],
   "source": [
    "accounts_country_table_insert = (\"\"\"INSERT INTO AccountsCountry(\n",
    "country_code,\n",
    "short_name,\n",
    "table_name,\n",
    "long_name,\n",
    "currency_unit)\n",
    "values(%s,%s,%s,%s,%s)\n",
    "\"\"\")"
   ]
  },
  {
   "cell_type": "code",
   "execution_count": 710,
   "metadata": {},
   "outputs": [],
   "source": [
    "for i, row in AccountsCountry_Clean.iterrows():\n",
    "    cur.execute(accounts_country_table_insert, list(row))"
   ]
  },
  {
   "cell_type": "code",
   "execution_count": 711,
   "metadata": {},
   "outputs": [],
   "source": [
    "conn.commit()"
   ]
  },
  {
   "cell_type": "code",
   "execution_count": 712,
   "metadata": {},
   "outputs": [
    {
     "data": {
      "text/plain": [
       "Index(['Code', 'Short Name', 'Table Name', 'Long Name', 'Currency Unit'], dtype='object')"
      ]
     },
     "execution_count": 712,
     "metadata": {},
     "output_type": "execute_result"
    }
   ],
   "source": [
    "AccountsCountry_Clean.columns"
   ]
  },
  {
   "cell_type": "code",
   "execution_count": 713,
   "metadata": {},
   "outputs": [],
   "source": [
    "accounts_data_table_insert = (\"\"\"INSERT INTO AccountsData(\n",
    "country_name,\n",
    "country_code,\n",
    "series_name,\n",
    "series_code,\n",
    "YR1995,\n",
    "YR2000,\n",
    "YR2005,\n",
    "YR2010,\n",
    "YR2014)\n",
    "values(%s,%s,%s,%s,%s,%s,%s,%s,%s)\n",
    "\"\"\")"
   ]
  },
  {
   "cell_type": "code",
   "execution_count": 714,
   "metadata": {},
   "outputs": [
    {
     "data": {
      "text/html": [
       "<div>\n",
       "<style scoped>\n",
       "    .dataframe tbody tr th:only-of-type {\n",
       "        vertical-align: middle;\n",
       "    }\n",
       "\n",
       "    .dataframe tbody tr th {\n",
       "        vertical-align: top;\n",
       "    }\n",
       "\n",
       "    .dataframe thead th {\n",
       "        text-align: right;\n",
       "    }\n",
       "</style>\n",
       "<table border=\"1\" class=\"dataframe\">\n",
       "  <thead>\n",
       "    <tr style=\"text-align: right;\">\n",
       "      <th></th>\n",
       "      <th>Country Name</th>\n",
       "      <th>Country Code</th>\n",
       "      <th>Series Name</th>\n",
       "      <th>Series Code</th>\n",
       "      <th>1995 [YR1995]</th>\n",
       "      <th>2000 [YR2000]</th>\n",
       "      <th>2005 [YR2005]</th>\n",
       "      <th>2010 [YR2010]</th>\n",
       "      <th>2014 [YR2014]</th>\n",
       "    </tr>\n",
       "  </thead>\n",
       "  <tbody>\n",
       "    <tr>\n",
       "      <th>1224</th>\n",
       "      <td>Chad</td>\n",
       "      <td>TCD</td>\n",
       "      <td>Natural capital per capita, nonrenewable asset...</td>\n",
       "      <td>NW.NCA.SAOI.PC</td>\n",
       "      <td>..</td>\n",
       "      <td>..</td>\n",
       "      <td>1.451296e+03</td>\n",
       "      <td>3.303945e+03</td>\n",
       "      <td>3.094919e+03</td>\n",
       "    </tr>\n",
       "    <tr>\n",
       "      <th>1239</th>\n",
       "      <td>Chad</td>\n",
       "      <td>TCD</td>\n",
       "      <td>Natural capital, nonrenewable assets: oil (con...</td>\n",
       "      <td>NW.NCA.SAOI.TO</td>\n",
       "      <td>..</td>\n",
       "      <td>..</td>\n",
       "      <td>1.470000e+10</td>\n",
       "      <td>3.950000e+10</td>\n",
       "      <td>4.230000e+10</td>\n",
       "    </tr>\n",
       "    <tr>\n",
       "      <th>6369</th>\n",
       "      <td>Suriname</td>\n",
       "      <td>SUR</td>\n",
       "      <td>Natural capital per capita, nonrenewable asset...</td>\n",
       "      <td>NW.NCA.SACO.PC</td>\n",
       "      <td>..</td>\n",
       "      <td>0</td>\n",
       "      <td>0.000000e+00</td>\n",
       "      <td>0.000000e+00</td>\n",
       "      <td>0.000000e+00</td>\n",
       "    </tr>\n",
       "    <tr>\n",
       "      <th>6384</th>\n",
       "      <td>Suriname</td>\n",
       "      <td>SUR</td>\n",
       "      <td>Natural capital, nonrenewable assets: coal (co...</td>\n",
       "      <td>NW.NCA.SACO.TO</td>\n",
       "      <td>..</td>\n",
       "      <td>0</td>\n",
       "      <td>0.000000e+00</td>\n",
       "      <td>0.000000e+00</td>\n",
       "      <td>0.000000e+00</td>\n",
       "    </tr>\n",
       "    <tr>\n",
       "      <th>7409</th>\n",
       "      <td>West Bank and Gaza</td>\n",
       "      <td>PSE</td>\n",
       "      <td>Natural capital per capita, nonrenewable asset...</td>\n",
       "      <td>NW.NCA.SACO.PC</td>\n",
       "      <td>..</td>\n",
       "      <td>0</td>\n",
       "      <td>0.000000e+00</td>\n",
       "      <td>0.000000e+00</td>\n",
       "      <td>0.000000e+00</td>\n",
       "    </tr>\n",
       "    <tr>\n",
       "      <th>7410</th>\n",
       "      <td>West Bank and Gaza</td>\n",
       "      <td>PSE</td>\n",
       "      <td>Natural capital per capita, nonrenewable asset...</td>\n",
       "      <td>NW.NCA.SAGA.PC</td>\n",
       "      <td>..</td>\n",
       "      <td>0</td>\n",
       "      <td>0.000000e+00</td>\n",
       "      <td>0.000000e+00</td>\n",
       "      <td>0.000000e+00</td>\n",
       "    </tr>\n",
       "    <tr>\n",
       "      <th>7412</th>\n",
       "      <td>West Bank and Gaza</td>\n",
       "      <td>PSE</td>\n",
       "      <td>Natural capital per capita, nonrenewable asset...</td>\n",
       "      <td>NW.NCA.SAOI.PC</td>\n",
       "      <td>..</td>\n",
       "      <td>0</td>\n",
       "      <td>0.000000e+00</td>\n",
       "      <td>0.000000e+00</td>\n",
       "      <td>0.000000e+00</td>\n",
       "    </tr>\n",
       "    <tr>\n",
       "      <th>7424</th>\n",
       "      <td>West Bank and Gaza</td>\n",
       "      <td>PSE</td>\n",
       "      <td>Natural capital, nonrenewable assets: coal (co...</td>\n",
       "      <td>NW.NCA.SACO.TO</td>\n",
       "      <td>..</td>\n",
       "      <td>0</td>\n",
       "      <td>0.000000e+00</td>\n",
       "      <td>0.000000e+00</td>\n",
       "      <td>0.000000e+00</td>\n",
       "    </tr>\n",
       "    <tr>\n",
       "      <th>7425</th>\n",
       "      <td>West Bank and Gaza</td>\n",
       "      <td>PSE</td>\n",
       "      <td>Natural capital, nonrenewable assets: gas (con...</td>\n",
       "      <td>NW.NCA.SAGA.TO</td>\n",
       "      <td>..</td>\n",
       "      <td>0</td>\n",
       "      <td>0.000000e+00</td>\n",
       "      <td>0.000000e+00</td>\n",
       "      <td>0.000000e+00</td>\n",
       "    </tr>\n",
       "    <tr>\n",
       "      <th>7427</th>\n",
       "      <td>West Bank and Gaza</td>\n",
       "      <td>PSE</td>\n",
       "      <td>Natural capital, nonrenewable assets: oil (con...</td>\n",
       "      <td>NW.NCA.SAOI.TO</td>\n",
       "      <td>..</td>\n",
       "      <td>0</td>\n",
       "      <td>0.000000e+00</td>\n",
       "      <td>0.000000e+00</td>\n",
       "      <td>0.000000e+00</td>\n",
       "    </tr>\n",
       "  </tbody>\n",
       "</table>\n",
       "</div>"
      ],
      "text/plain": [
       "            Country Name Country Code   \n",
       "1224                Chad          TCD  \\\n",
       "1239                Chad          TCD   \n",
       "6369            Suriname          SUR   \n",
       "6384            Suriname          SUR   \n",
       "7409  West Bank and Gaza          PSE   \n",
       "7410  West Bank and Gaza          PSE   \n",
       "7412  West Bank and Gaza          PSE   \n",
       "7424  West Bank and Gaza          PSE   \n",
       "7425  West Bank and Gaza          PSE   \n",
       "7427  West Bank and Gaza          PSE   \n",
       "\n",
       "                                            Series Name     Series Code   \n",
       "1224  Natural capital per capita, nonrenewable asset...  NW.NCA.SAOI.PC  \\\n",
       "1239  Natural capital, nonrenewable assets: oil (con...  NW.NCA.SAOI.TO   \n",
       "6369  Natural capital per capita, nonrenewable asset...  NW.NCA.SACO.PC   \n",
       "6384  Natural capital, nonrenewable assets: coal (co...  NW.NCA.SACO.TO   \n",
       "7409  Natural capital per capita, nonrenewable asset...  NW.NCA.SACO.PC   \n",
       "7410  Natural capital per capita, nonrenewable asset...  NW.NCA.SAGA.PC   \n",
       "7412  Natural capital per capita, nonrenewable asset...  NW.NCA.SAOI.PC   \n",
       "7424  Natural capital, nonrenewable assets: coal (co...  NW.NCA.SACO.TO   \n",
       "7425  Natural capital, nonrenewable assets: gas (con...  NW.NCA.SAGA.TO   \n",
       "7427  Natural capital, nonrenewable assets: oil (con...  NW.NCA.SAOI.TO   \n",
       "\n",
       "     1995 [YR1995] 2000 [YR2000]  2005 [YR2005]  2010 [YR2010]  2014 [YR2014]  \n",
       "1224            ..            ..   1.451296e+03   3.303945e+03   3.094919e+03  \n",
       "1239            ..            ..   1.470000e+10   3.950000e+10   4.230000e+10  \n",
       "6369            ..             0   0.000000e+00   0.000000e+00   0.000000e+00  \n",
       "6384            ..             0   0.000000e+00   0.000000e+00   0.000000e+00  \n",
       "7409            ..             0   0.000000e+00   0.000000e+00   0.000000e+00  \n",
       "7410            ..             0   0.000000e+00   0.000000e+00   0.000000e+00  \n",
       "7412            ..             0   0.000000e+00   0.000000e+00   0.000000e+00  \n",
       "7424            ..             0   0.000000e+00   0.000000e+00   0.000000e+00  \n",
       "7425            ..             0   0.000000e+00   0.000000e+00   0.000000e+00  \n",
       "7427            ..             0   0.000000e+00   0.000000e+00   0.000000e+00  "
      ]
     },
     "execution_count": 714,
     "metadata": {},
     "output_type": "execute_result"
    }
   ],
   "source": [
    "AccountsData[AccountsData['1995 [YR1995]'] == '..']"
   ]
  },
  {
   "cell_type": "code",
   "execution_count": 715,
   "metadata": {},
   "outputs": [],
   "source": [
    "AccountsData.drop_duplicates(inplace=True)"
   ]
  },
  {
   "cell_type": "code",
   "execution_count": 716,
   "metadata": {},
   "outputs": [],
   "source": [
    "AccountsData.fillna(0,inplace=True)\n",
    "AccountsData.replace('..',0,inplace=True)"
   ]
  },
  {
   "cell_type": "code",
   "execution_count": 717,
   "metadata": {},
   "outputs": [],
   "source": [
    "for i, row in AccountsData.iterrows():\n",
    "    cur.execute(accounts_data_table_insert, list(row))"
   ]
  },
  {
   "cell_type": "code",
   "execution_count": 718,
   "metadata": {},
   "outputs": [],
   "source": [
    "conn.commit()"
   ]
  },
  {
   "cell_type": "code",
   "execution_count": 719,
   "metadata": {},
   "outputs": [],
   "source": [
    "accounts_series_table_insert = (\"\"\"INSERT INTO AccountsSeries(\n",
    "series_code,\n",
    "topic,\n",
    "indicator_name,\n",
    "long_definition)\n",
    "values(%s,%s,%s,%s)\n",
    "\"\"\")"
   ]
  },
  {
   "cell_type": "code",
   "execution_count": 720,
   "metadata": {},
   "outputs": [],
   "source": [
    "# AccountsSeries['Long definition'].str.extract(r'^(.*\\b[c]apital\\b)')\n",
    "AccountsSeries['Long definition'] = AccountsSeries['Long definition'].str[:15]"
   ]
  },
  {
   "cell_type": "code",
   "execution_count": 721,
   "metadata": {},
   "outputs": [],
   "source": [
    "for i, row in AccountsSeries.iterrows():\n",
    "    cur.execute(accounts_series_table_insert, list(row))"
   ]
  },
  {
   "cell_type": "code",
   "execution_count": 722,
   "metadata": {},
   "outputs": [],
   "source": [
    "# AccountsSeries['Long definition'].str.extract(r'^(.*\\b[c]apital\\b)')"
   ]
  },
  {
   "cell_type": "code",
   "execution_count": 723,
   "metadata": {},
   "outputs": [],
   "source": [
    "conn.commit()"
   ]
  },
  {
   "cell_type": "code",
   "execution_count": null,
   "metadata": {},
   "outputs": [],
   "source": []
  }
 ],
 "metadata": {
  "kernelspec": {
   "display_name": "Python 3.8.10 64-bit",
   "language": "python",
   "name": "python3"
  },
  "language_info": {
   "codemirror_mode": {
    "name": "ipython",
    "version": 3
   },
   "file_extension": ".py",
   "mimetype": "text/x-python",
   "name": "python",
   "nbconvert_exporter": "python",
   "pygments_lexer": "ipython3",
   "version": "3.8.10"
  },
  "orig_nbformat": 4,
  "vscode": {
   "interpreter": {
    "hash": "e7370f93d1d0cde622a1f8e1c04877d8463912d04d973331ad4851f04de6915a"
   }
  }
 },
 "nbformat": 4,
 "nbformat_minor": 2
}
